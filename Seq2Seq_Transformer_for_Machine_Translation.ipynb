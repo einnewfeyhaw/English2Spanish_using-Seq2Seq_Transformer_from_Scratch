{
  "nbformat": 4,
  "nbformat_minor": 0,
  "metadata": {
    "colab": {
      "provenance": [],
      "gpuType": "T4"
    },
    "kernelspec": {
      "name": "python3",
      "display_name": "Python 3"
    },
    "language_info": {
      "name": "python"
    },
    "accelerator": "GPU"
  },
  "cells": [
    {
      "cell_type": "code",
      "execution_count": null,
      "metadata": {
        "id": "ROZ370sQCXwh"
      },
      "outputs": [],
      "source": [
        "import math\n",
        "\n",
        "import torch\n",
        "import torch.nn as nn\n",
        "from torch.utils.data import dataset\n",
        "import torch.nn.functional as F\n",
        "\n",
        "import numpy as np\n",
        "import matplotlib.pyplot as plt"
      ]
    },
    {
      "cell_type": "code",
      "source": [
        "class MultiHeadAttention(nn.Module):\n",
        "  def __init__(self, d_k, d_model, n_heads, max_len, causal = False):\n",
        "    super().__init__()\n",
        "\n",
        "    self.d_k = d_k\n",
        "    self.n_heads = n_heads\n",
        "\n",
        "    self.key = nn.Linear(d_model, d_k*n_heads)\n",
        "    self.query = nn.Linear(d_model, d_k*n_heads)\n",
        "    self.value = nn.Linear(d_model, d_k*n_heads)\n",
        "\n",
        "    self.fc = nn.Linear(d_k*n_heads, d_model)\n",
        "\n",
        "    self.causal = causal\n",
        "    if causal:\n",
        "      cm = torch.tril(torch.ones(max_len, max_len))\n",
        "      self.register_buffer(\n",
        "        \"causal_mask\",\n",
        "        cm.view(1,1,max_len,max_len)\n",
        "    )\n",
        "\n",
        "  def forward(self, q, k,v,pad_mask = None):\n",
        "    q = self.query(q)\n",
        "    k = self.key(k)\n",
        "    v = self.value(v)\n",
        "\n",
        "    N = q.shape[0]\n",
        "    T_output = q.shape[1]\n",
        "    T_input = k.shape[1]\n",
        "\n",
        "    q = q.view(N,T_output,self.n_heads, self.d_k).transpose(1,2)\n",
        "    k = k.view(N,T_input,self.n_heads, self.d_k).transpose(1,2)\n",
        "    v = v.view(N,T_input,self.n_heads, self.d_k).transpose(1,2)\n",
        "\n",
        "    attn_scores = q@k.transpose(-2,-1)/math.sqrt(self.d_k)\n",
        "    if pad_mask is not None:\n",
        "      attn_scores = attn_scores.masked_fill(\n",
        "          pad_mask[:,None,None, :] == 0, float('-inf')\n",
        "      )\n",
        "    if self.causal:\n",
        "      attn_scores = attn_scores.masked_fill(\n",
        "        self.causal_mask[:,:,:T_output,:T_input] == 0, float('-inf')\n",
        "    )\n",
        "    attn_weights = F.softmax(attn_scores, dim = -1)\n",
        "\n",
        "    A = attn_weights@v\n",
        "\n",
        "    A = A.transpose(1,2)\n",
        "    A = A.contiguous().view(N, T_output, self.d_k * self.n_heads)\n",
        "\n",
        "    return self.fc(A)"
      ],
      "metadata": {
        "id": "nQGNO1R7CeI5"
      },
      "execution_count": null,
      "outputs": []
    },
    {
      "cell_type": "code",
      "source": [
        "class EncoderBlock(nn.Module):\n",
        "  def __init__(self, d_k,d_model, n_heads, max_len, dropout_prob = 0.1):\n",
        "    super().__init__()\n",
        "\n",
        "    self.ln1 = nn.LayerNorm(d_model)\n",
        "    self.ln2 = nn.LayerNorm(d_model)\n",
        "    self.mha = MultiHeadAttention(d_k, d_model, n_heads, max_len, causal = False)\n",
        "    self.ann = nn.Sequential(\n",
        "        nn.Linear(d_model, d_model *4),\n",
        "        nn.GELU(),\n",
        "        nn.Linear(d_model*4, d_model),\n",
        "        nn.Dropout(dropout_prob)\n",
        "    )\n",
        "    self.dropout = nn.Dropout(p=dropout_prob)\n",
        "\n",
        "  def forward(self, x, mask = None):\n",
        "    x = self.ln1(x+self.mha(x,x,x,mask))\n",
        "    x = self.ln2(x+self.ann(x))\n",
        "    x = self.dropout(x)\n",
        "    return x\n"
      ],
      "metadata": {
        "id": "giHgwBKeD3I8"
      },
      "execution_count": null,
      "outputs": []
    },
    {
      "cell_type": "code",
      "source": [
        "class DecoderBlock(nn.Module):\n",
        "  def __init__(self, d_k,d_model, n_heads,max_len, dropout_prob = 0.1):\n",
        "    super().__init__()\n",
        "\n",
        "    self.ln1 = nn.LayerNorm(d_model)\n",
        "    self.ln2 = nn.LayerNorm(d_model)\n",
        "    self.ln3 = nn.LayerNorm(d_model)\n",
        "    self.mha1 = MultiHeadAttention(d_k, d_model, n_heads, max_len, causal = True)\n",
        "    self.mha2 = MultiHeadAttention(d_k, d_model, n_heads, max_len, causal = False)\n",
        "    self.ann = nn.Sequential(\n",
        "        nn.Linear(d_model, d_model *4),\n",
        "        nn.GELU(),\n",
        "        nn.Linear(d_model*4, d_model),\n",
        "        nn.Dropout(dropout_prob)\n",
        "    )\n",
        "    self.dropout = nn.Dropout(p=dropout_prob)\n",
        "\n",
        "  def forward(self, enc_output, dec_input, enc_mask = None, dec_mask = None):\n",
        "    x = self.ln1(dec_input+self.mha1(dec_input,dec_input,dec_input,dec_mask))\n",
        "    x = self.ln2(x+self.mha2(x,enc_output,enc_output,enc_mask))\n",
        "    x = self.ln3(x+self.ann(x))\n",
        "    x = self.dropout(x)\n",
        "    return x"
      ],
      "metadata": {
        "id": "xI2z5UXpERP1"
      },
      "execution_count": null,
      "outputs": []
    },
    {
      "cell_type": "code",
      "source": [
        "class PositionalEncoding(nn.Module):\n",
        "  def __init__(self, d_model, max_len = 2048, dropout_prob = 0.1):\n",
        "    super().__init__()\n",
        "\n",
        "    self.dropout = nn.Dropout(p=dropout_prob)\n",
        "\n",
        "    position = torch.arange(max_len).unsqueeze(1)\n",
        "    exp_term = torch.arange(0,d_model, 2)\n",
        "    div_term = torch.exp(exp_term*(-math.log(10000.0)/d_model))\n",
        "    pe = torch.zeros(1,max_len, d_model)\n",
        "    pe[0,:,0::2] = torch.sin(position * div_term)\n",
        "    pe[0,:,1::2] = torch.cos(position * div_term)\n",
        "    self.register_buffer('pe',pe)\n",
        "\n",
        "  def forward(self, x):\n",
        "    x = x+self.pe[:,:x.size(1),:]\n",
        "    return self.dropout(x)"
      ],
      "metadata": {
        "id": "o3W0OqKHFQJF"
      },
      "execution_count": null,
      "outputs": []
    },
    {
      "cell_type": "code",
      "source": [
        "class Encoder(nn.Module):\n",
        "  def __init__(self,\n",
        "               vocab_size,\n",
        "               max_len,\n",
        "               d_k,\n",
        "               d_model,\n",
        "               n_heads,\n",
        "               n_layers,\n",
        "\n",
        "               dropout_prob):\n",
        "    super().__init__()\n",
        "    self.embedding = nn.Embedding(vocab_size, d_model)\n",
        "    self.pos_encoding = PositionalEncoding(d_model, max_len, dropout_prob)\n",
        "    transformer_blocks = [\n",
        "        EncoderBlock(\n",
        "            d_k,\n",
        "            d_model,\n",
        "            n_heads,\n",
        "            dropout_prob) for _ in range(n_layers)]\n",
        "    self.transfomer_blocks = nn.Sequential(*transformer_blocks)\n",
        "    self.ln = nn.LayerNorm(d_model)\n",
        "\n",
        "  def forward(self, x, pad_mask = None):\n",
        "    x = self.embedding(x)\n",
        "    x = self.pos_encoding(x)\n",
        "    for block in self.transfomer_blocks:\n",
        "      x = block(x,pad_mask)\n",
        "\n",
        "\n",
        "    x = self.ln(x)\n",
        "\n",
        "\n",
        "    return x"
      ],
      "metadata": {
        "id": "OD4T2fdyFZXo"
      },
      "execution_count": null,
      "outputs": []
    },
    {
      "cell_type": "code",
      "source": [
        "class Decoder(nn.Module):\n",
        "  def __init__(self,\n",
        "               vocab_size,\n",
        "               max_len,\n",
        "               d_k,\n",
        "               d_model,\n",
        "               n_heads,\n",
        "               n_layers,\n",
        "               dropout_prob):\n",
        "    super().__init__()\n",
        "    self.embedding = nn.Embedding(vocab_size, d_model)\n",
        "    self.pos_encoding = PositionalEncoding(d_model, max_len, dropout_prob)\n",
        "    transformer_blocks = [\n",
        "        DecoderBlock(\n",
        "            d_k,\n",
        "            d_model,\n",
        "            n_heads,\n",
        "            max_len,\n",
        "            dropout_prob) for _ in range(n_layers)]\n",
        "    self.transfomer_blocks = nn.Sequential(*transformer_blocks)\n",
        "    self.ln = nn.LayerNorm(d_model)\n",
        "    self.fc = nn.Linear(d_model, vocab_size)\n",
        "\n",
        "  def forward(self, enc_output, dec_input, enc_mask = None, dec_mask = None):\n",
        "    x = self.embedding(dec_input)\n",
        "    x = self.pos_encoding(x)\n",
        "    for block in self.transfomer_blocks:\n",
        "      x = block(enc_output,x,enc_mask, dec_mask)\n",
        "\n",
        "    x = self.ln(x)\n",
        "    x = self.fc(x)\n",
        "\n",
        "    return x"
      ],
      "metadata": {
        "id": "zp06f2rJFsLS"
      },
      "execution_count": null,
      "outputs": []
    },
    {
      "cell_type": "code",
      "source": [
        "class Transformer(nn.Module):\n",
        "  def __init__(self,encoder,decoder):\n",
        "    super().__init__()\n",
        "    self.encoder = encoder\n",
        "    self.decoder = decoder\n",
        "\n",
        "  def forward(self, enc_input, dec_input, enc_mask, dec_mask):\n",
        "    enc_output = self.encoder(enc_input, enc_mask)\n",
        "    dec_output = self.decoder(enc_output, dec_input, enc_mask, dec_mask)\n",
        "    return dec_output"
      ],
      "metadata": {
        "id": "1Bqvx8ElGKbe"
      },
      "execution_count": null,
      "outputs": []
    },
    {
      "cell_type": "code",
      "source": [
        "#test_it\n",
        "encoder = Encoder(\n",
        "    vocab_size = 20_000,\n",
        "    max_len = 512,\n",
        "    d_k = 16,\n",
        "    d_model = 64,\n",
        "    n_heads = 4,\n",
        "    n_layers = 2,\n",
        "    dropout_prob = 0.1\n",
        ")\n",
        "decoder = Decoder(\n",
        "    vocab_size = 10_000,\n",
        "    max_len = 512,\n",
        "    d_k = 16,\n",
        "    d_model = 64,\n",
        "    n_heads = 4,\n",
        "    n_layers = 2,\n",
        "    dropout_prob = 0.1\n",
        ")\n",
        "transformer = Transformer(encoder, decoder)"
      ],
      "metadata": {
        "id": "PdNsIDrjIf3W"
      },
      "execution_count": null,
      "outputs": []
    },
    {
      "cell_type": "code",
      "source": [
        "device = torch.device(\"cuda:0\" if torch.cuda.is_available() else \"cpu\")\n",
        "encoder.to(device)\n",
        "decoder.to(device)"
      ],
      "metadata": {
        "id": "PzNKtPcuJdZd"
      },
      "execution_count": null,
      "outputs": []
    },
    {
      "cell_type": "code",
      "source": [
        "xe = np.random.randint(0,20_000, size = (8,512))\n",
        "xe_t = torch.tensor(xe).to(device)\n",
        "\n",
        "xd = np.random.randint(0,10_000, size = (8,256))\n",
        "xd_t = torch.tensor(xd).to(device)\n",
        "\n",
        "maske = np.ones((8,512))\n",
        "maske[:,256:] = 0\n",
        "maske_t = torch.tensor(maske).to(device)\n",
        "\n",
        "maskd = np.ones((8,256))\n",
        "maskd[:,128:] = 0\n",
        "maskd_t = torch.tensor(maskd).to(device)\n",
        "\n",
        "out = transformer(xe_t,xd_t,maske_t,maskd_t)\n",
        "out.shape"
      ],
      "metadata": {
        "colab": {
          "base_uri": "https://localhost:8080/"
        },
        "id": "jHxGBF6-JiL5",
        "outputId": "1eda98d5-a7b1-46bd-ad32-9d4a17e93ca9"
      },
      "execution_count": null,
      "outputs": [
        {
          "output_type": "execute_result",
          "data": {
            "text/plain": [
              "torch.Size([8, 256, 10000])"
            ]
          },
          "metadata": {},
          "execution_count": 12
        }
      ]
    },
    {
      "cell_type": "code",
      "source": [
        "!head spa.txt"
      ],
      "metadata": {
        "id": "SLkDEXe-LZST"
      },
      "execution_count": null,
      "outputs": []
    },
    {
      "cell_type": "code",
      "source": [
        "import pandas as pd\n",
        "df = pd.read_csv('spa.txt', sep = \"\\t\", header = None)\n",
        "df.head()"
      ],
      "metadata": {
        "id": "shJNQgXUOQOy"
      },
      "execution_count": null,
      "outputs": []
    },
    {
      "cell_type": "code",
      "source": [
        "df.shape"
      ],
      "metadata": {
        "colab": {
          "base_uri": "https://localhost:8080/"
        },
        "id": "IIUiHTE7OfGk",
        "outputId": "ae3c05a6-556f-497b-da0f-03d8786e1a5c"
      },
      "execution_count": null,
      "outputs": [
        {
          "output_type": "execute_result",
          "data": {
            "text/plain": [
              "(115245, 2)"
            ]
          },
          "metadata": {},
          "execution_count": 15
        }
      ]
    },
    {
      "cell_type": "code",
      "source": [
        "df = df.iloc[:30_000]"
      ],
      "metadata": {
        "id": "4I81RLtnOjK5"
      },
      "execution_count": null,
      "outputs": []
    },
    {
      "cell_type": "code",
      "source": [
        "df.columns = ['en','es']\n",
        "df.to_csv('spa.csv', index = None)"
      ],
      "metadata": {
        "id": "_jyh0J-lOly0"
      },
      "execution_count": null,
      "outputs": []
    },
    {
      "cell_type": "code",
      "source": [
        "!head spa.csv"
      ],
      "metadata": {
        "id": "fAmTBhGZOsr6"
      },
      "execution_count": null,
      "outputs": []
    },
    {
      "cell_type": "code",
      "source": [
        "!pip install transformers datasets sentencepiece sacremoses"
      ],
      "metadata": {
        "id": "QT-HzV5WOu0a"
      },
      "execution_count": null,
      "outputs": []
    },
    {
      "cell_type": "code",
      "source": [
        "from datasets import load_dataset\n",
        "raw_dataset = load_dataset('csv', data_files = 'spa.csv')"
      ],
      "metadata": {
        "id": "rhb2D9jLO7eE"
      },
      "execution_count": null,
      "outputs": []
    },
    {
      "cell_type": "code",
      "source": [
        "raw_dataset"
      ],
      "metadata": {
        "id": "aawccjtIPIE0"
      },
      "execution_count": null,
      "outputs": []
    },
    {
      "cell_type": "code",
      "source": [
        "split = raw_dataset['train'].train_test_split(test_size = 0.3, seed = 42)\n",
        "split"
      ],
      "metadata": {
        "id": "33OJWh9WPJWs"
      },
      "execution_count": null,
      "outputs": []
    },
    {
      "cell_type": "code",
      "source": [
        "from transformers import AutoTokenizer\n",
        "\n",
        "model_checkpoint = \"Helsinki-NLP/opus-mt-en-es\"\n",
        "tokenizer = AutoTokenizer.from_pretrained(model_checkpoint)"
      ],
      "metadata": {
        "id": "pmGOHQz0PV41"
      },
      "execution_count": null,
      "outputs": []
    },
    {
      "cell_type": "code",
      "source": [
        "en_sentence = split['train'][0]['en']\n",
        "es_sentence = split['train'][0]['es']\n",
        "\n",
        "inputs = tokenizer(en_sentence)\n",
        "targets = tokenizer(text_target = es_sentence)\n",
        "\n",
        "tokenizer.convert_ids_to_tokens(targets['input_ids'])"
      ],
      "metadata": {
        "id": "0yqcxnMFPlEe"
      },
      "execution_count": null,
      "outputs": []
    },
    {
      "cell_type": "code",
      "source": [
        "es_sentence"
      ],
      "metadata": {
        "id": "v8YurR2vPtSY"
      },
      "execution_count": null,
      "outputs": []
    },
    {
      "cell_type": "code",
      "source": [
        "max_input_length = 128\n",
        "max_target_length = 128\n",
        "\n",
        "def preprocess_function(batch):\n",
        "  model_inputs = tokenizer(\n",
        "      batch['en'], max_length = max_input_length, truncation = True\n",
        "  )\n",
        "\n",
        "  labels = tokenizer(\n",
        "      text_target = batch['es'],max_length = max_target_length, truncation = True\n",
        "  )\n",
        "\n",
        "  model_inputs[\"labels\"] = labels[\"input_ids\"]\n",
        "  return model_inputs"
      ],
      "metadata": {
        "id": "n-DFedXSQEGk"
      },
      "execution_count": null,
      "outputs": []
    },
    {
      "cell_type": "code",
      "source": [
        "tokenized_datasets = split.map(\n",
        "    preprocess_function,\n",
        "    batched = True,\n",
        "    remove_columns = split['train'].column_names\n",
        "\n",
        ")"
      ],
      "metadata": {
        "id": "VLaJaZFxQprL"
      },
      "execution_count": null,
      "outputs": []
    },
    {
      "cell_type": "code",
      "source": [
        "tokenized_datasets"
      ],
      "metadata": {
        "id": "AjtekqV_Q-0E"
      },
      "execution_count": null,
      "outputs": []
    },
    {
      "cell_type": "code",
      "source": [
        "from transformers import DataCollatorForSeq2Seq\n",
        "\n",
        "data_collator = DataCollatorForSeq2Seq(tokenizer)"
      ],
      "metadata": {
        "id": "-6mutP8URCuE"
      },
      "execution_count": null,
      "outputs": []
    },
    {
      "cell_type": "code",
      "source": [
        "batch = data_collator([tokenized_datasets[\"train\"][i] for i in range(0,5)])\n",
        "batch.keys()"
      ],
      "metadata": {
        "id": "KHFmOXScRMg0"
      },
      "execution_count": null,
      "outputs": []
    },
    {
      "cell_type": "code",
      "source": [
        "batch['input_ids']"
      ],
      "metadata": {
        "id": "K2HYtrCPRV9p"
      },
      "execution_count": null,
      "outputs": []
    },
    {
      "cell_type": "code",
      "source": [
        "batch['attention_mask']"
      ],
      "metadata": {
        "id": "SRt5LN-8RbPO"
      },
      "execution_count": null,
      "outputs": []
    },
    {
      "cell_type": "code",
      "source": [
        "batch['labels']"
      ],
      "metadata": {
        "id": "xz5DRsxYRdo7"
      },
      "execution_count": null,
      "outputs": []
    },
    {
      "cell_type": "code",
      "source": [
        "tokenizer.all_special_ids"
      ],
      "metadata": {
        "colab": {
          "base_uri": "https://localhost:8080/"
        },
        "id": "GkDDt24YRe9f",
        "outputId": "43f87bef-ca87-4262-c798-0f1d13a60825"
      },
      "execution_count": null,
      "outputs": [
        {
          "output_type": "execute_result",
          "data": {
            "text/plain": [
              "[0, 1, 65000]"
            ]
          },
          "metadata": {},
          "execution_count": 34
        }
      ]
    },
    {
      "cell_type": "code",
      "source": [
        "tokenizer.all_special_tokens"
      ],
      "metadata": {
        "id": "VSVQ0SHGRleV"
      },
      "execution_count": null,
      "outputs": []
    },
    {
      "cell_type": "code",
      "source": [
        "tokenizer('<pad>')"
      ],
      "metadata": {
        "id": "cnvQSyOyRnxH"
      },
      "execution_count": null,
      "outputs": []
    },
    {
      "cell_type": "code",
      "source": [
        "from torch.utils.data import DataLoader\n",
        "\n",
        "train_loader = DataLoader(\n",
        "    tokenized_datasets[\"train\"],\n",
        "    shuffle = True,\n",
        "    batch_size = 32,\n",
        "    collate_fn = data_collator\n",
        ")\n",
        "\n",
        "valid_loader = DataLoader(\n",
        "    tokenized_datasets[\"test\"],\n",
        "    batch_size = 32,\n",
        "    collate_fn = data_collator\n",
        ")"
      ],
      "metadata": {
        "id": "0KP3S1tNRxDE"
      },
      "execution_count": null,
      "outputs": []
    },
    {
      "cell_type": "code",
      "source": [
        "for batch in train_loader:\n",
        "  for k, v in batch.items():\n",
        "    print(\"k:\", k, \"v.shape\", v.shape)\n",
        "  break"
      ],
      "metadata": {
        "id": "vSpSBzNLSLBH"
      },
      "execution_count": null,
      "outputs": []
    },
    {
      "cell_type": "code",
      "source": [
        "tokenizer.vocab_size"
      ],
      "metadata": {
        "id": "VccA_3T4SYUk"
      },
      "execution_count": null,
      "outputs": []
    },
    {
      "cell_type": "code",
      "source": [
        "tokenizer.decode([60000])"
      ],
      "metadata": {
        "id": "pWqVeB23Scu8"
      },
      "execution_count": null,
      "outputs": []
    },
    {
      "cell_type": "code",
      "source": [
        "tokenizer.add_special_tokens({\"cls_token\":\"<s>\"})"
      ],
      "metadata": {
        "id": "UeJGlEpbSfGd"
      },
      "execution_count": null,
      "outputs": []
    },
    {
      "cell_type": "code",
      "source": [
        "tokenizer(\"<s>\")"
      ],
      "metadata": {
        "id": "0BShTGKKSlHA"
      },
      "execution_count": null,
      "outputs": []
    },
    {
      "cell_type": "code",
      "source": [
        "tokenizer.vocab_size"
      ],
      "metadata": {
        "id": "e3F8ZUIOSnQs"
      },
      "execution_count": null,
      "outputs": []
    },
    {
      "cell_type": "code",
      "source": [
        "encoder = Encoder(vocab_size = tokenizer.vocab_size +1,\n",
        "                  max_len = 512,\n",
        "                  d_k = 16,\n",
        "                  d_model = 64,\n",
        "                  n_heads = 4,\n",
        "                  n_layers = 2,\n",
        "                  dropout_prob = 0.1)\n",
        "decoder = Decoder(vocab_size = tokenizer.vocab_size +1,\n",
        "                  max_len = 512,\n",
        "                  d_k = 16,\n",
        "                  d_model = 64,\n",
        "                  n_heads = 4,\n",
        "                  n_layers = 2,\n",
        "                  dropout_prob = 0.1)\n",
        "\n",
        "tranformer = Transformer(encoder, decoder)"
      ],
      "metadata": {
        "id": "b_NwzP44Ssrd"
      },
      "execution_count": null,
      "outputs": []
    },
    {
      "cell_type": "code",
      "source": [
        "encoder.to(device)\n",
        "decoder.to(device)"
      ],
      "metadata": {
        "id": "g_7rnvReTEdP"
      },
      "execution_count": null,
      "outputs": []
    },
    {
      "cell_type": "code",
      "source": [
        "criterion = nn.CrossEntropyLoss(ignore_index = -100)\n",
        "optimizer = torch.optim.Adam(transformer.parameters())"
      ],
      "metadata": {
        "id": "JN_2ekYSTGuT"
      },
      "execution_count": null,
      "outputs": []
    },
    {
      "cell_type": "code",
      "source": [
        "from datetime import datetime\n",
        "def train(model, criterion, optimizer, train_loader, valid_loader, epochs):\n",
        "  train_losses = np.zeros(epochs)\n",
        "  test_losses = np.zeros(epochs)\n",
        "\n",
        "  for it in range(epochs):\n",
        "    model.train()\n",
        "    t0 = datetime.now()\n",
        "    train_loss = []\n",
        "\n",
        "    for batch in train_loader:\n",
        "      batch = {k:v.to(device) for k,v in batch.items()}\n",
        "\n",
        "      optimizer.zero_grad()\n",
        "\n",
        "      enc_input = batch['input_ids']\n",
        "      enc_mask = batch['attention_mask']\n",
        "      targets = batch['labels']\n",
        "\n",
        "      dec_input = targets.clone().detach()\n",
        "      dec_input = torch.roll(dec_input, shifts =1, dims =1)\n",
        "      dec_input[:,0] = 65_001\n",
        "\n",
        "      dec_input = dec_input.masked_fill(\n",
        "          dec_input == -100, tokenizer.pad_token_id\n",
        "      )\n",
        "\n",
        "      dec_mask = torch.ones_like(dec_input)\n",
        "      dec_mask = dec_mask.masked_fill(dec_input == tokenizer.pad_token_id, 0)\n",
        "\n",
        "      outputs = model(enc_input, dec_input, enc_mask, dec_mask)\n",
        "      loss = criterion(outputs.transpose(2,1), targets)\n",
        "\n",
        "      loss.backward()\n",
        "      optimizer.step()\n",
        "\n",
        "      train_loss.append(loss.item())\n",
        "\n",
        "\n",
        "    train_loss = np.mean(train_loss)\n",
        "    model.eval()\n",
        "    test_loss = []\n",
        "\n",
        "    for batch in valid_loader:\n",
        "      batch = {k:v.to(device) for k, v in batch.items()}\n",
        "\n",
        "      enc_input = batch['input_ids']\n",
        "      enc_mask = batch['attention_mask']\n",
        "      targets = batch['labels']\n",
        "\n",
        "      dec_input = targets.clone().detach()\n",
        "      dec_input = torch.roll(dec_input, shifts =1, dims =1)\n",
        "      dec_input[:,0] = 65_001\n",
        "\n",
        "      dec_input = dec_input.masked_fill(\n",
        "          dec_input == -100, tokenizer.pad_token_id\n",
        "      )\n",
        "\n",
        "      dec_mask = torch.ones_like(dec_input)\n",
        "      dec_mask = dec_mask.masked_fill(dec_input == tokenizer.pad_token_id, 0)\n",
        "\n",
        "      outputs = model(enc_input, dec_input, enc_mask, dec_mask)\n",
        "      loss = criterion(outputs.transpose(2,1), targets)\n",
        "\n",
        "      test_loss.append(loss.item())\n",
        "\n",
        "    test_loss = np.mean(test_loss)\n",
        "\n",
        "    train_losses[it] = train_loss\n",
        "    test_losses[it] = test_loss\n",
        "\n",
        "    dt = datetime.now() - t0\n",
        "    print(f'Epoch {it+1}/{epochs}, Train Loss: {train_loss:.4f}, Test Loss: {test_loss: .4f}, Duration:{dt}')\n",
        "  return train_losses, test_losses"
      ],
      "metadata": {
        "id": "SMG41bFXTYcP"
      },
      "execution_count": null,
      "outputs": []
    },
    {
      "cell_type": "code",
      "source": [
        "\n",
        "train_losses, test_losses = train(\n",
        "    transformer, criterion, optimizer, train_loader, valid_loader, epochs = 15\n",
        ")"
      ],
      "metadata": {
        "id": "7r6zDOmwU5um"
      },
      "execution_count": null,
      "outputs": []
    },
    {
      "cell_type": "code",
      "source": [
        "input_sentence = split['test'][10]['en']\n",
        "input_sentence"
      ],
      "metadata": {
        "id": "oDwKtc19VtqT"
      },
      "execution_count": null,
      "outputs": []
    },
    {
      "cell_type": "code",
      "source": [
        "enc_input = tokenizer(input_sentence, return_tensors = 'pt')\n",
        "enc_input"
      ],
      "metadata": {
        "id": "Pj3Q8n9kWJwc"
      },
      "execution_count": null,
      "outputs": []
    },
    {
      "cell_type": "code",
      "source": [
        "dec_input_str = '<s>'\n",
        "\n",
        "dec_input = tokenizer(text_target = dec_input_str, return_tensors = 'pt')\n",
        "dec_input"
      ],
      "metadata": {
        "id": "hBCBTfwfWO90"
      },
      "execution_count": null,
      "outputs": []
    },
    {
      "cell_type": "code",
      "source": [
        "enc_input.to(device)\n",
        "dec_input.to(device)\n",
        "output = transformer(\n",
        "    enc_input['input_ids'],\n",
        "    dec_input['input_ids'][:,:-1],\n",
        "    enc_input['attention_mask'],\n",
        "    dec_input['attention_mask'][:,:-1]\n",
        ")\n",
        "output"
      ],
      "metadata": {
        "id": "7suUSZ-VWasg"
      },
      "execution_count": null,
      "outputs": []
    },
    {
      "cell_type": "code",
      "source": [
        "outptu.shape"
      ],
      "metadata": {
        "id": "kwSvwQwWXQYd"
      },
      "execution_count": null,
      "outputs": []
    },
    {
      "cell_type": "code",
      "source": [
        "enc_output = encoder(enc_input['input_ids'], enc_input['attention_mask'])\n",
        "enc_output.shape"
      ],
      "metadata": {
        "id": "j0Ry28oHXqjf"
      },
      "execution_count": null,
      "outputs": []
    },
    {
      "cell_type": "code",
      "source": [
        "dec_output = decoder(\n",
        "    enc_output,\n",
        "    dec_input['input_ids'][:,:-1],\n",
        "    enc_input['attention_mask'],\n",
        "    dec_input['attention_mask'][:,:-1]\n",
        ")\n",
        "\n",
        "dec_output.shape"
      ],
      "metadata": {
        "id": "_enBmDiSXy_l"
      },
      "execution_count": null,
      "outputs": []
    },
    {
      "cell_type": "code",
      "source": [
        "torch.allclose(output, dec_output)"
      ],
      "metadata": {
        "id": "6UeAIk99YJQD"
      },
      "execution_count": null,
      "outputs": []
    },
    {
      "cell_type": "code",
      "source": [
        "dec_input_ids = dec_input['input_ids'][:,:-1]\n",
        "dec_attn_mask = dec_input['attention_mask'][:,:-1]\n",
        "\n",
        "for _ in range(32):\n",
        "  dec_output = decoder(\n",
        "      enc_output,\n",
        "      dec_input_ids,\n",
        "      enc_input['attention_mask'],\n",
        "      dec_attn_mask\n",
        "  )\n",
        "\n",
        "  prediction_id = (torch.argmax(dec_output[:,:-1,_], axis = -1))\n",
        "\n",
        "  dec_input_ids = torch.hstack((dec_input_ids, prediction_id.view(1,1)))\n",
        "\n",
        "  dec_attn_mask = torch.ones_like(dec_input_ids)\n",
        "\n",
        "  if prediction_id == 0:\n",
        "    break"
      ],
      "metadata": {
        "id": "QOgOHv8iYLkA"
      },
      "execution_count": null,
      "outputs": []
    },
    {
      "cell_type": "code",
      "source": [
        "tokenizer.decode(dec_input_ids[0])"
      ],
      "metadata": {
        "id": "i0YINC8IY9oI"
      },
      "execution_count": null,
      "outputs": []
    },
    {
      "cell_type": "code",
      "source": [
        "split['test'][10]['es']"
      ],
      "metadata": {
        "id": "SnxJrhUYY__q"
      },
      "execution_count": null,
      "outputs": []
    },
    {
      "cell_type": "code",
      "source": [
        "def translate(input_sentence):\n",
        "  enc_input = tokenizer(input_sentence, return_tensors = 'pt').to(device)\n",
        "  enc_output = encoder(enc_input['input_ids'], enc_input['attention_mask'])\n",
        "\n",
        "  dec_input_ids = torch.tensor([[65_001]], device = device)\n",
        "  dec_attn_mask = torch.ones_like(dec_input_ids, device = device)\n",
        "\n",
        "  for _ in range(32):\n",
        "    dec_output = decoder(\n",
        "        enc_output,\n",
        "        dec_input_ids,\n",
        "        enc_input['attention_mask'],\n",
        "        dec_attn_mask\n",
        "    )\n",
        "\n",
        "    prediction_id = (torch.argmax(dec_output[:,-1,_], axis = -1))\n",
        "\n",
        "    dec_input_ids = torch.hstack((dec_input_ids, prediction_id.view(1,1)))\n",
        "\n",
        "    dec_attn_mask = torch.ones_like(dec_input_ids)\n",
        "\n",
        "    if prediction_id == 0:\n",
        "      break\n",
        "  translation = tokenizer.decode(dec_input_ids[0,1:])\n",
        "  print(translation)"
      ],
      "metadata": {
        "id": "DddD1050ZCxb"
      },
      "execution_count": null,
      "outputs": []
    },
    {
      "cell_type": "code",
      "source": [
        "translate(\"How are you?\")"
      ],
      "metadata": {
        "id": "JlHa4X6VaDZU"
      },
      "execution_count": null,
      "outputs": []
    }
  ]
}